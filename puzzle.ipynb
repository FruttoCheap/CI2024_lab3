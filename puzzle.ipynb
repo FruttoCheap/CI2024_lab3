{
 "cells": [
  {
   "cell_type": "code",
   "id": "initial_id",
   "metadata": {
    "collapsed": true
   },
   "source": [
    "import numpy as np\n",
    "from collections import deque"
   ],
   "outputs": [],
   "execution_count": null
  },
  {
   "metadata": {},
   "cell_type": "code",
   "source": [
    "PUZZLE_DIM = 3\n",
    "MOVES = [(-1, 0, \"U\"), (1, 0, \"D\"), (0, -1, \"L\"), (0, 1, \"R\")]"
   ],
   "id": "69cd1d848d9ad01f",
   "outputs": [],
   "execution_count": null
  },
  {
   "metadata": {},
   "cell_type": "code",
   "source": [
    "def generate_initial_state():\n",
    "    \"\"\"\n",
    "    Generate a random solvable initial state for an n x n puzzle.\n",
    "\n",
    "    Returns:\n",
    "        tuple: A random, solvable initial state.\n",
    "    \"\"\"\n",
    "    goal_state = tuple(range(1, PUZZLE_DIM * PUZZLE_DIM)) + (0,)\n",
    "    while True:\n",
    "        state = list(goal_state)\n",
    "        np.random.shuffle(state)\n",
    "        state = tuple(state)\n",
    "        if is_solvable(state):\n",
    "            return state"
   ],
   "id": "467e4d2269b913a6",
   "outputs": [],
   "execution_count": null
  },
  {
   "metadata": {},
   "cell_type": "code",
   "source": [
    "def is_solvable(state):\n",
    "    \"\"\"\n",
    "    Check if a given puzzle state is solvable.\n",
    "\n",
    "    Args:\n",
    "        state (tuple): The current puzzle state.\n",
    "\n",
    "    Returns:\n",
    "        bool: True if the state is solvable, False otherwise.\n",
    "    \"\"\"\n",
    "    # Count inversions\n",
    "    inversion_count = 0\n",
    "    state_list = [tile for tile in state if tile != 0]  # Exclude the blank tile\n",
    "    for i in range(len(state_list)):\n",
    "        for j in range(i + 1, len(state_list)):\n",
    "            if state_list[i] > state_list[j]:\n",
    "                inversion_count += 1\n",
    "\n",
    "    if PUZZLE_DIM % 2 == 1:  # Odd grid\n",
    "        return inversion_count % 2 == 0\n",
    "    else:  # Even grid\n",
    "        # Find the row of the blank tile (0), counting from the bottom\n",
    "        blank_row_from_bottom = PUZZLE_DIM - (state.index(0) // PUZZLE_DIM)\n",
    "        if blank_row_from_bottom % 2 == 0:  # Blank on an even row from bottom\n",
    "            return inversion_count % 2 == 1\n",
    "        else:  # Blank on an odd row from bottom\n",
    "            return inversion_count % 2 == 0"
   ],
   "id": "670130d2544996f6",
   "outputs": [],
   "execution_count": null
  },
  {
   "metadata": {},
   "cell_type": "code",
   "source": [
    "def get_neighbors(state):\n",
    "    \"\"\"\n",
    "    Generate all possible moves from the current state.\n",
    "\n",
    "    Args:\n",
    "        state (tuple): The current state of the puzzle.\n",
    "\n",
    "    Returns:\n",
    "        list: A list of tuples containing the new state and the move leading to it.\n",
    "    \"\"\"\n",
    "    zero_idx = state.index(0)  # Locate the blank tile (0)\n",
    "    neighbors = []\n",
    "    zero_row, zero_col = divmod(zero_idx, PUZZLE_DIM)  # Calculate row and column of the blank tile\n",
    "\n",
    "    for dr, dc, move in MOVES:\n",
    "        # Calculate the new position for the blank tile\n",
    "        new_row, new_col = zero_row + dr, zero_col + dc\n",
    "        if 0 <= new_row < PUZZLE_DIM and 0 <= new_col < PUZZLE_DIM:  # Check if move is valid\n",
    "            new_idx = new_row * PUZZLE_DIM + new_col\n",
    "            new_state = list(state)  # Convert tuple to list for modification\n",
    "            # Swap blank tile with target tile\n",
    "            new_state[zero_idx], new_state[new_idx] = new_state[new_idx], new_state[zero_idx]\n",
    "            neighbors.append((tuple(new_state), move))  # Add new state and move to neighbors\n",
    "    return neighbors"
   ],
   "id": "11db21352a7c88c1",
   "outputs": [],
   "execution_count": null
  },
  {
   "metadata": {},
   "cell_type": "markdown",
   "source": "# A* Search",
   "id": "17770bd318af7f9b"
  },
  {
   "metadata": {},
   "cell_type": "code",
   "source": [
    "import heapq\n",
    "\n",
    "def a_star_solve_puzzle(start, goal):\n",
    "    \"\"\"\n",
    "    Solves the n^2-1 puzzle using A* and returns the sequence of moves.\n",
    "\n",
    "    Args:\n",
    "        start (tuple): The initial state of the puzzle.\n",
    "        goal (tuple): The goal state of the puzzle.\n",
    "\n",
    "    Returns:\n",
    "        list: A list of moves (e.g., [\"U\", \"L\"]) to solve the puzzle.\n",
    "    \"\"\"\n",
    "\n",
    "    def manhattan_distance(state):\n",
    "        \"\"\"Calculates the Manhattan distance heuristic.\"\"\"\n",
    "        distance = 0\n",
    "        for i, tile in enumerate(state):\n",
    "            if tile == 0:  # Skip the empty tile\n",
    "                continue\n",
    "            goal_row, goal_col = divmod(tile - 1, n)\n",
    "            current_row, current_col = divmod(i, n)\n",
    "            distance += abs(goal_row - current_row) + abs(goal_col - current_col)\n",
    "        return distance\n",
    "\n",
    "    # Priority queue: each entry is (f_score, g_score, current_state, moves_so_far)\n",
    "    pq = []\n",
    "    heapq.heappush(pq, (manhattan_distance(start), 0, start, []))\n",
    "    visited = set()\n",
    "\n",
    "    while pq:\n",
    "        f_score, g_score, current_state, moves = heapq.heappop(pq)\n",
    "\n",
    "        # Check if we've reached the goal\n",
    "        if current_state == goal:\n",
    "            return moves\n",
    "\n",
    "        # Skip already visited states\n",
    "        if current_state in visited:\n",
    "            continue\n",
    "        visited.add(current_state)\n",
    "\n",
    "        # Explore neighbors\n",
    "        for neighbor_state, move in get_neighbors(current_state):\n",
    "            if neighbor_state not in visited:\n",
    "                # g_score + 1 is the new path cost; add heuristic for f_score\n",
    "                new_g_score = g_score + 1\n",
    "                new_f_score = new_g_score + manhattan_distance(neighbor_state)\n",
    "                heapq.heappush(pq, (new_f_score, new_g_score, neighbor_state, moves + [move]))\n",
    "\n",
    "    return None  # No solution"
   ],
   "id": "ffa560e62d38bb73",
   "outputs": [],
   "execution_count": null
  },
  {
   "metadata": {},
   "cell_type": "code",
   "source": [
    "state = generate_initial_state()\n",
    "\n",
    "goal_state = tuple(range(1, PUZZLE_DIM * PUZZLE_DIM)) + (0,)\n",
    "\n",
    "print(\"Initial state:\")\n",
    "print(state)\n",
    "print()\n",
    "\n",
    "path = a_star_solve_puzzle(state, goal_state)\n",
    "\n",
    "print(\"Path to goal:\")\n",
    "print(path)\n",
    "print()"
   ],
   "id": "827c27aadc97b420",
   "outputs": [],
   "execution_count": null
  }
 ],
 "metadata": {
  "kernelspec": {
   "display_name": "Python 3",
   "language": "python",
   "name": "python3"
  },
  "language_info": {
   "codemirror_mode": {
    "name": "ipython",
    "version": 2
   },
   "file_extension": ".py",
   "mimetype": "text/x-python",
   "name": "python",
   "nbconvert_exporter": "python",
   "pygments_lexer": "ipython2",
   "version": "2.7.6"
  }
 },
 "nbformat": 4,
 "nbformat_minor": 5
}
