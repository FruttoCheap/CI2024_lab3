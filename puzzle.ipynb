{
 "cells": [
  {
   "cell_type": "code",
   "id": "initial_id",
   "metadata": {
    "collapsed": true,
    "ExecuteTime": {
     "end_time": "2024-11-22T08:33:41.175004Z",
     "start_time": "2024-11-22T08:33:41.099792Z"
    }
   },
   "source": [
    "import numpy as np\n",
    "from collections import deque"
   ],
   "outputs": [],
   "execution_count": 2
  },
  {
   "metadata": {
    "ExecuteTime": {
     "end_time": "2024-11-22T08:34:38.703482Z",
     "start_time": "2024-11-22T08:34:38.700895Z"
    }
   },
   "cell_type": "code",
   "source": "PUZZLE_DIM = 3",
   "id": "69cd1d848d9ad01f",
   "outputs": [],
   "execution_count": 9
  },
  {
   "metadata": {
    "ExecuteTime": {
     "end_time": "2024-11-22T08:46:55.151705Z",
     "start_time": "2024-11-22T08:46:55.147811Z"
    }
   },
   "cell_type": "code",
   "source": [
    "def generate_initial_state():\n",
    "    \"\"\"\n",
    "    Generate a random solvable initial state for an n x n puzzle.\n",
    "\n",
    "    Returns:\n",
    "        tuple: A random, solvable initial state.\n",
    "    \"\"\"\n",
    "    goal_state = tuple(range(1, PUZZLE_DIM * PUZZLE_DIM)) + (0,)\n",
    "    while True:\n",
    "        state = list(goal_state)\n",
    "        np.random.shuffle(state)\n",
    "        state = tuple(state)\n",
    "        if is_solvable(state):\n",
    "            return state"
   ],
   "id": "467e4d2269b913a6",
   "outputs": [],
   "execution_count": 19
  },
  {
   "metadata": {
    "ExecuteTime": {
     "end_time": "2024-11-22T08:47:01.405736Z",
     "start_time": "2024-11-22T08:47:01.400471Z"
    }
   },
   "cell_type": "code",
   "source": [
    "def is_solvable(state):\n",
    "    \"\"\"\n",
    "    Check if a given puzzle state is solvable.\n",
    "\n",
    "    Args:\n",
    "        state (tuple): The current puzzle state.\n",
    "\n",
    "    Returns:\n",
    "        bool: True if the state is solvable, False otherwise.\n",
    "    \"\"\"\n",
    "    # Count inversions\n",
    "    inversion_count = 0\n",
    "    state_list = [tile for tile in state if tile != 0]  # Exclude the blank tile\n",
    "    for i in range(len(state_list)):\n",
    "        for j in range(i + 1, len(state_list)):\n",
    "            if state_list[i] > state_list[j]:\n",
    "                inversion_count += 1\n",
    "\n",
    "    if PUZZLE_DIM % 2 == 1:  # Odd grid\n",
    "        return inversion_count % 2 == 0\n",
    "    else:  # Even grid\n",
    "        # Find the row of the blank tile (0), counting from the bottom\n",
    "        blank_row_from_bottom = PUZZLE_DIM - (state.index(0) // PUZZLE_DIM)\n",
    "        if blank_row_from_bottom % 2 == 0:  # Blank on an even row from bottom\n",
    "            return inversion_count % 2 == 1\n",
    "        else:  # Blank on an odd row from bottom\n",
    "            return inversion_count % 2 == 0"
   ],
   "id": "670130d2544996f6",
   "outputs": [],
   "execution_count": 20
  },
  {
   "metadata": {
    "ExecuteTime": {
     "end_time": "2024-11-22T09:15:56.642953Z",
     "start_time": "2024-11-22T09:15:56.637178Z"
    }
   },
   "cell_type": "code",
   "source": [
    "n = PUZZLE_DIM\n",
    "\n",
    "def get_neighbors(state):\n",
    "    \"\"\"Generate all possible moves from the current state.\"\"\"\n",
    "    zero_idx = state.index(0)\n",
    "    neighbors = []\n",
    "    zero_row, zero_col = divmod(zero_idx, n)\n",
    "    # Define movement (up, down, left, right)\n",
    "    moves = [(-1, 0, \"U\"), (1, 0, \"D\"), (0, -1, \"L\"), (0, 1, \"R\")]  # row, col adjustments\n",
    "    for dr, dc, m in moves:\n",
    "        new_row, new_col = zero_row + dr, zero_col + dc\n",
    "        if 0 <= new_row < n and 0 <= new_col < n:\n",
    "            new_idx = new_row * n + new_col\n",
    "            # Swap empty tile with the target tile\n",
    "            new_state = list(state)\n",
    "            new_state[zero_idx], new_state[new_idx] = new_state[new_idx], new_state[zero_idx]\n",
    "            neighbors.append((tuple(new_state), m))\n",
    "    return neighbors"
   ],
   "id": "11db21352a7c88c1",
   "outputs": [],
   "execution_count": 65
  },
  {
   "metadata": {},
   "cell_type": "markdown",
   "source": "# Breadth-First Search",
   "id": "5dbabcf2ce2cb7bb"
  },
  {
   "metadata": {
    "ExecuteTime": {
     "end_time": "2024-11-22T09:16:07.414185Z",
     "start_time": "2024-11-22T09:16:07.409373Z"
    }
   },
   "cell_type": "code",
   "source": [
    "def bfs_solve_puzzle(start, goal):\n",
    "    \"\"\"\n",
    "    Solves the n^2-1 puzzle using BFS.\n",
    "\n",
    "    Args:\n",
    "        start (tuple): The initial state of the puzzle.\n",
    "        goal (tuple): The goal state of the puzzle.\n",
    "\n",
    "    Returns:\n",
    "        list: The solution path as a list of states, or None if no solution exists.\n",
    "    \"\"\"\n",
    "\n",
    "    # BFS setup\n",
    "    queue = deque([(start, [])])\n",
    "    visited = set()\n",
    "\n",
    "    while queue:\n",
    "        current, path = queue.popleft()\n",
    "        if current == goal:\n",
    "            return path\n",
    "\n",
    "        visited.add(current)\n",
    "        for neighbor, move in get_neighbors(current):\n",
    "            if neighbor not in visited and neighbor not in queue:\n",
    "                queue.append((neighbor, path + [move]))\n",
    "\n",
    "    return None"
   ],
   "id": "96f12c329b265536",
   "outputs": [],
   "execution_count": 66
  },
  {
   "metadata": {
    "ExecuteTime": {
     "end_time": "2024-11-22T09:16:22.651253Z",
     "start_time": "2024-11-22T09:16:22.646261Z"
    }
   },
   "cell_type": "code",
   "source": [
    "# state = generate_initial_state()\n",
    "state = (1, 0, 2, 4, 5, 3, 7, 8, 6)\n",
    "\n",
    "goal_state = tuple(range(1, PUZZLE_DIM * PUZZLE_DIM)) + (0,)\n",
    "\n",
    "print(\"Initial state:\")\n",
    "print(state)\n",
    "print()\n",
    "\n",
    "path = bfs_solve_puzzle(state, goal_state)\n",
    "\n",
    "print(\"Path to goal:\")\n",
    "print(path)\n",
    "print()"
   ],
   "id": "47271c9cdc964c42",
   "outputs": [
    {
     "name": "stdout",
     "output_type": "stream",
     "text": [
      "Initial state:\n",
      "(1, 0, 2, 4, 5, 3, 7, 8, 6)\n",
      "\n",
      "Path to goal:\n",
      "['R', 'D', 'D']\n",
      "\n"
     ]
    }
   ],
   "execution_count": 69
  },
  {
   "metadata": {},
   "cell_type": "markdown",
   "source": "# Depth-First Search",
   "id": "31d347cb3266d8ca"
  },
  {
   "metadata": {
    "ExecuteTime": {
     "end_time": "2024-11-22T09:16:17.297032Z",
     "start_time": "2024-11-22T09:16:17.291914Z"
    }
   },
   "cell_type": "code",
   "source": [
    "def dfs_solve_puzzle(start, goal, depth_limit=None):\n",
    "    \"\"\"\n",
    "    Solves the n^2-1 puzzle using DFS and returns the sequence of moves.\n",
    "\n",
    "    Args:\n",
    "        start (tuple): The initial state of the puzzle.\n",
    "        goal (tuple): The goal state of the puzzle.\n",
    "        depth_limit (int): Optional maximum depth for limited DFS.\n",
    "\n",
    "    Returns:\n",
    "        list: A list of moves (e.g., [\"U\", \"L\"]) to solve the puzzle, or None if no solution is found.\n",
    "    \"\"\"\n",
    "\n",
    "    # Stack setup for DFS: each entry is (current_state, moves_so_far, current_depth)\n",
    "    stack = [(start, [], 0)]\n",
    "    visited = set()\n",
    "\n",
    "    while stack:\n",
    "        current_state, path, depth = stack.pop()\n",
    "\n",
    "        # Check if we've reached the goal\n",
    "        if current_state == goal:\n",
    "            return path\n",
    "\n",
    "        # Mark state as visited\n",
    "        visited.add(current_state)\n",
    "\n",
    "        # Stop exploring if depth limit is reached (for iterative deepening)\n",
    "        if depth_limit is not None and depth >= depth_limit:\n",
    "            continue\n",
    "\n",
    "        # Explore neighbors (in reverse order for stack behavior to mimic DFS)\n",
    "        for neighbor_state, move in reversed(get_neighbors(current_state)):\n",
    "            if neighbor_state not in visited:\n",
    "                stack.append((neighbor_state, path + [move], depth + 1))\n",
    "\n",
    "    return None  # No solution"
   ],
   "id": "c03152717eabecb1",
   "outputs": [],
   "execution_count": 68
  },
  {
   "metadata": {
    "ExecuteTime": {
     "end_time": "2024-11-22T09:16:24.865990Z",
     "start_time": "2024-11-22T09:16:24.859292Z"
    }
   },
   "cell_type": "code",
   "source": [
    "# state = generate_initial_state()\n",
    "state = (1, 0, 2, 4, 5, 3, 7, 8, 6)\n",
    "\n",
    "goal_state = tuple(range(1, PUZZLE_DIM * PUZZLE_DIM)) + (0,)\n",
    "\n",
    "print(\"Initial state:\")\n",
    "print(state)\n",
    "print()\n",
    "\n",
    "path = dfs_solve_puzzle(state, goal_state)\n",
    "\n",
    "print(\"Path to goal:\")\n",
    "print(path)\n",
    "print()"
   ],
   "id": "739c1776ac4c8ae8",
   "outputs": [
    {
     "name": "stdout",
     "output_type": "stream",
     "text": [
      "Initial state:\n",
      "(1, 0, 2, 4, 5, 3, 7, 8, 6)\n",
      "\n",
      "Path to goal:\n",
      "['D', 'D', 'L', 'U', 'U', 'R', 'D', 'D', 'L', 'U', 'U', 'R', 'D', 'D', 'L', 'U', 'U', 'R', 'D', 'D', 'L', 'U', 'U', 'R', 'D', 'D', 'L', 'U', 'R', 'U', 'L', 'D', 'D', 'R', 'U', 'U', 'L', 'D', 'D', 'R', 'U', 'U', 'L', 'D', 'D', 'R', 'U', 'U', 'L', 'D', 'D', 'R', 'U', 'U', 'L', 'D', 'D', 'R', 'R', 'U', 'U', 'L', 'D', 'D', 'L', 'U', 'U', 'R', 'D', 'D', 'L', 'U', 'U', 'R', 'D', 'D', 'L', 'U', 'U', 'R', 'D', 'D', 'L', 'U', 'U', 'R', 'D', 'D', 'L', 'U', 'R', 'U', 'L', 'D', 'D', 'R', 'U', 'U', 'L', 'D', 'D', 'R', 'U', 'U', 'L', 'D', 'D', 'R', 'U', 'U', 'L', 'D', 'D', 'R', 'U', 'U', 'L', 'D', 'D', 'R', 'R', 'U', 'U', 'L', 'D', 'D', 'L', 'U', 'U', 'R', 'D', 'D', 'L', 'U', 'U', 'R', 'D', 'D', 'L', 'U', 'U', 'R', 'D', 'D', 'L', 'U', 'U', 'R', 'D', 'D', 'L', 'U', 'R', 'U', 'L', 'D', 'D', 'R', 'U', 'U', 'L', 'D', 'D', 'R', 'U', 'U', 'L', 'D', 'D', 'R', 'U', 'U', 'L', 'D', 'D', 'R', 'U', 'U', 'L', 'D', 'D', 'R', 'R', 'U', 'U', 'L', 'D', 'D', 'L', 'U', 'U', 'R', 'D', 'D', 'L', 'U', 'U', 'R', 'D', 'D', 'L', 'U', 'U', 'R', 'D', 'D', 'L', 'U', 'U', 'R', 'D', 'D', 'L', 'U', 'R', 'U', 'L', 'D', 'D', 'R', 'U', 'U', 'L', 'D', 'D', 'R', 'U', 'U', 'L', 'D', 'D', 'R', 'U', 'U', 'L', 'D', 'D', 'R', 'U', 'U', 'L', 'D', 'D', 'R', 'R', 'U', 'U', 'L', 'D', 'D', 'L', 'U', 'U', 'R', 'D', 'D', 'L', 'U', 'U', 'R', 'D', 'D', 'L', 'U', 'U', 'R', 'D', 'D', 'L', 'U', 'U', 'R', 'D', 'D', 'L', 'U', 'R', 'U', 'L', 'D', 'D', 'R', 'U', 'U', 'L', 'D', 'D', 'R', 'U', 'U', 'L', 'D', 'D', 'R', 'U', 'U', 'L', 'D', 'D', 'R', 'U', 'U', 'L', 'D', 'D', 'R', 'R', 'U', 'U', 'L', 'D', 'D', 'L', 'U', 'U', 'R', 'D', 'D', 'L', 'U', 'U', 'R', 'D', 'D', 'L', 'U', 'U', 'R', 'D', 'D', 'L', 'U', 'U', 'R', 'D', 'D', 'L', 'U', 'R', 'U', 'L', 'D', 'D', 'R', 'U', 'U', 'L', 'D', 'D', 'R', 'U', 'U', 'L', 'D', 'D', 'R', 'U', 'U', 'L', 'D', 'D', 'R', 'U', 'U', 'L', 'D', 'D', 'R', 'R', 'U', 'U', 'L', 'D', 'D', 'L', 'U', 'U', 'R', 'D', 'D', 'L', 'U', 'U', 'R', 'D', 'D', 'L', 'U', 'U', 'R', 'D', 'D', 'L', 'U', 'U', 'R', 'D', 'D', 'L', 'U', 'R', 'U', 'L', 'D', 'D', 'R', 'U', 'U', 'L', 'D', 'D', 'R', 'U', 'U', 'L', 'D', 'D', 'R', 'U', 'U', 'L', 'D', 'D', 'R', 'U', 'U', 'L', 'D', 'D', 'R', 'R']\n",
      "\n"
     ]
    }
   ],
   "execution_count": 70
  },
  {
   "metadata": {},
   "cell_type": "markdown",
   "source": "## Iterative Deepening Depth-First Search",
   "id": "67ab555d4e888a40"
  },
  {
   "metadata": {
    "ExecuteTime": {
     "end_time": "2024-11-22T09:18:25.882682Z",
     "start_time": "2024-11-22T09:18:25.878986Z"
    }
   },
   "cell_type": "code",
   "source": [
    "def iddfs_solve_puzzle(start, goal, max_depth):\n",
    "    for depth_limit in range(max_depth + 1):\n",
    "        solution = dfs_solve_puzzle(start, goal, depth_limit=depth_limit)\n",
    "        if solution is not None:\n",
    "            return solution\n",
    "    return None"
   ],
   "id": "1194a5c14974c185",
   "outputs": [],
   "execution_count": 75
  },
  {
   "metadata": {
    "ExecuteTime": {
     "end_time": "2024-11-22T09:18:26.221143Z",
     "start_time": "2024-11-22T09:18:26.216173Z"
    }
   },
   "cell_type": "code",
   "source": [
    "# state = generate_initial_state()\n",
    "state = (1, 0, 2, 4, 5, 3, 7, 8, 6)\n",
    "\n",
    "goal_state = tuple(range(1, PUZZLE_DIM * PUZZLE_DIM)) + (0,)\n",
    "\n",
    "print(\"Initial state:\")\n",
    "print(state)\n",
    "print()\n",
    "\n",
    "path = iddfs_solve_puzzle(state, goal_state, 5)\n",
    "\n",
    "print(\"Path to goal:\")\n",
    "print(path)\n",
    "print()"
   ],
   "id": "22aa76dd0eed13",
   "outputs": [
    {
     "name": "stdout",
     "output_type": "stream",
     "text": [
      "Initial state:\n",
      "(1, 0, 2, 4, 5, 3, 7, 8, 6)\n",
      "\n",
      "Path to goal:\n",
      "['R', 'D', 'D']\n",
      "\n"
     ]
    }
   ],
   "execution_count": 76
  },
  {
   "metadata": {},
   "cell_type": "markdown",
   "source": "# Uniform Cost Search",
   "id": "d2ece281e374cee0"
  },
  {
   "metadata": {
    "ExecuteTime": {
     "end_time": "2024-11-22T09:18:28.134426Z",
     "start_time": "2024-11-22T09:18:28.129411Z"
    }
   },
   "cell_type": "code",
   "source": [
    "import heapq\n",
    "\n",
    "def ucs_solve_puzzle(start, goal):\n",
    "    # Priority queue: each entry is (cost, current_state, moves_so_far)\n",
    "    pq = []\n",
    "    heapq.heappush(pq, (0, start, []))\n",
    "    visited = set()\n",
    "\n",
    "    while pq:\n",
    "        cost, current_state, moves = heapq.heappop(pq)\n",
    "\n",
    "        # Check if we've reached the goal\n",
    "        if current_state == goal:\n",
    "            return moves\n",
    "\n",
    "        # Skip already visited states\n",
    "        if current_state in visited:\n",
    "            continue\n",
    "        visited.add(current_state)\n",
    "\n",
    "        # Explore neighbors\n",
    "        for neighbor_state, move in get_neighbors(current_state):\n",
    "            if neighbor_state not in visited:\n",
    "                # Uniform cost increment: Each move costs 1\n",
    "                heapq.heappush(pq, (cost + 1, neighbor_state, moves + [move]))\n",
    "\n",
    "    return None  # No solution"
   ],
   "id": "554e93b71a8fa6be",
   "outputs": [],
   "execution_count": 77
  },
  {
   "metadata": {
    "ExecuteTime": {
     "end_time": "2024-11-22T09:18:38.767363Z",
     "start_time": "2024-11-22T09:18:38.763203Z"
    }
   },
   "cell_type": "code",
   "source": [
    "# state = generate_initial_state()\n",
    "state = (1, 0, 2, 4, 5, 3, 7, 8, 6)\n",
    "\n",
    "goal_state = tuple(range(1, PUZZLE_DIM * PUZZLE_DIM)) + (0,)\n",
    "\n",
    "print(\"Initial state:\")\n",
    "print(state)\n",
    "print()\n",
    "\n",
    "path = ucs_solve_puzzle(state, goal_state)\n",
    "\n",
    "print(\"Path to goal:\")\n",
    "print(path)\n",
    "print()"
   ],
   "id": "67b143f23cebeb8a",
   "outputs": [
    {
     "name": "stdout",
     "output_type": "stream",
     "text": [
      "Initial state:\n",
      "(1, 0, 2, 4, 5, 3, 7, 8, 6)\n",
      "\n",
      "Path to goal:\n",
      "['R', 'D', 'D']\n",
      "\n"
     ]
    }
   ],
   "execution_count": 79
  },
  {
   "metadata": {},
   "cell_type": "markdown",
   "source": "# A* Search",
   "id": "17770bd318af7f9b"
  },
  {
   "metadata": {
    "ExecuteTime": {
     "end_time": "2024-11-22T09:21:19.106770Z",
     "start_time": "2024-11-22T09:21:19.100910Z"
    }
   },
   "cell_type": "code",
   "source": [
    "import heapq\n",
    "\n",
    "def a_star_solve_puzzle(start, goal):\n",
    "    \"\"\"\n",
    "    Solves the n^2-1 puzzle using A* and returns the sequence of moves.\n",
    "\n",
    "    Args:\n",
    "        start (tuple): The initial state of the puzzle.\n",
    "        goal (tuple): The goal state of the puzzle.\n",
    "\n",
    "    Returns:\n",
    "        list: A list of moves (e.g., [\"U\", \"L\"]) to solve the puzzle.\n",
    "    \"\"\"\n",
    "\n",
    "    def manhattan_distance(state):\n",
    "        \"\"\"Calculates the Manhattan distance heuristic.\"\"\"\n",
    "        distance = 0\n",
    "        for i, tile in enumerate(state):\n",
    "            if tile == 0:  # Skip the empty tile\n",
    "                continue\n",
    "            goal_row, goal_col = divmod(tile - 1, n)\n",
    "            current_row, current_col = divmod(i, n)\n",
    "            distance += abs(goal_row - current_row) + abs(goal_col - current_col)\n",
    "        return distance\n",
    "\n",
    "    # Priority queue: each entry is (f_score, g_score, current_state, moves_so_far)\n",
    "    pq = []\n",
    "    heapq.heappush(pq, (manhattan_distance(start), 0, start, []))\n",
    "    visited = set()\n",
    "\n",
    "    while pq:\n",
    "        f_score, g_score, current_state, moves = heapq.heappop(pq)\n",
    "\n",
    "        # Check if we've reached the goal\n",
    "        if current_state == goal:\n",
    "            return moves\n",
    "\n",
    "        # Skip already visited states\n",
    "        if current_state in visited:\n",
    "            continue\n",
    "        visited.add(current_state)\n",
    "\n",
    "        # Explore neighbors\n",
    "        for neighbor_state, move in get_neighbors(current_state):\n",
    "            if neighbor_state not in visited:\n",
    "                # g_score + 1 is the new path cost; add heuristic for f_score\n",
    "                new_g_score = g_score + 1\n",
    "                new_f_score = new_g_score + manhattan_distance(neighbor_state)\n",
    "                heapq.heappush(pq, (new_f_score, new_g_score, neighbor_state, moves + [move]))\n",
    "\n",
    "    return None  # No solution"
   ],
   "id": "ffa560e62d38bb73",
   "outputs": [],
   "execution_count": 82
  },
  {
   "metadata": {
    "ExecuteTime": {
     "end_time": "2024-11-22T09:21:26.926153Z",
     "start_time": "2024-11-22T09:21:26.918589Z"
    }
   },
   "cell_type": "code",
   "source": [
    "state = generate_initial_state()\n",
    "# state = (1, 0, 2, 4, 5, 3, 7, 8, 6)\n",
    "\n",
    "goal_state = tuple(range(1, PUZZLE_DIM * PUZZLE_DIM)) + (0,)\n",
    "\n",
    "print(\"Initial state:\")\n",
    "print(state)\n",
    "print()\n",
    "\n",
    "path = a_star_solve_puzzle(state, goal_state)\n",
    "\n",
    "print(\"Path to goal:\")\n",
    "print(path)\n",
    "print()"
   ],
   "id": "827c27aadc97b420",
   "outputs": [
    {
     "name": "stdout",
     "output_type": "stream",
     "text": [
      "Initial state:\n",
      "(7, 1, 6, 5, 8, 3, 4, 2, 0)\n",
      "\n",
      "Path to goal:\n",
      "['L', 'U', 'R', 'D', 'L', 'L', 'U', 'U', 'R', 'D', 'D', 'L', 'U', 'R', 'R', 'U', 'L', 'D', 'D', 'R']\n",
      "\n"
     ]
    }
   ],
   "execution_count": 84
  },
  {
   "metadata": {},
   "cell_type": "code",
   "outputs": [],
   "execution_count": null,
   "source": "",
   "id": "38328dbddd491b45"
  }
 ],
 "metadata": {
  "kernelspec": {
   "display_name": "Python 3",
   "language": "python",
   "name": "python3"
  },
  "language_info": {
   "codemirror_mode": {
    "name": "ipython",
    "version": 2
   },
   "file_extension": ".py",
   "mimetype": "text/x-python",
   "name": "python",
   "nbconvert_exporter": "python",
   "pygments_lexer": "ipython2",
   "version": "2.7.6"
  }
 },
 "nbformat": 4,
 "nbformat_minor": 5
}
